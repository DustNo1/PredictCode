{
 "cells": [
  {
   "cell_type": "markdown",
   "metadata": {},
   "source": [
    "# Naive predictions\n",
    "\n",
    "Two \"predictions\" which are very simple.  Surely any reasonable algorithm should be able to out-perform these.  These are not taken directly from the literature, but are \"obvious\" once you've spent some time with the ideas."
   ]
  },
  {
   "cell_type": "markdown",
   "metadata": {},
   "source": [
    "# Naive (\"counting grid\") algorithm\n",
    "\n",
    "This is a grid based algorithm.  A grid is laid down on the study region.  We expect that small (50m or less) will perform badly, compared to larger grid sizes.\n",
    "\n",
    "### Aim of the algorithm\n",
    "\n",
    "We look at all data before the current time (or perhaps a \"sliding window\" of the last $n$ months before the current time).  For each grid cell independently, we count the number of events which have occurred in that cell.  This gives the (non-normalised) risk in that cell.\n",
    "\n",
    "Notice then that there is no direct consideration of time (unless a sliding window is used).  There is no consideration of space, so this algorithm will suffer from the [MAUP](https://en.wikipedia.org/wiki/Modifiable_areal_unit_problem) as well as taking no account of likely movement of offenders.\n",
    "\n",
    "### Prediction\n",
    "\n",
    "As usual, we can look at the top 1%, 5%, 10% of cells by risk, and so forth."
   ]
  },
  {
   "cell_type": "markdown",
   "metadata": {},
   "source": [
    "### Naive KDE\n",
    "\n",
    "This algorithm is in some sense the most naive answer to the problem that the \"counting grid\" algorithm suffers from.  The output prediction is in the form of a grid, but this is computed only at the very end, so really the algorith is \"continuous\".\n",
    "\n",
    "We take an out the box [kernel density estimation](https://en.wikipedia.org/wiki/Kernel_density_estimation) algorithm, feed in the spatial locations of past crime events (so again, we use all crimes before the current time, and ignore timestamps) and then sample the resulting kernel to a grid.\n",
    "\n",
    "A KDE is an estimate of a probability density of the form\n",
    "\n",
    "$ f(x) = \\frac{1}{n} \\sum_{i=1}^n K(x - x_i) $\n",
    "\n",
    "where $(x_i)$ are the (two dimensional vector) locations of the events.  Here $K$ is the kernel, which is generality can be any two-dimensional function which is positive, and has $\\int_{\\mathbb R^2} K = 1$.\n",
    "\n",
    "We use the `scipy` Gaussian KDE.  This first computes the [sample covariance](https://en.wikipedia.org/wiki/Sample_mean_and_covariance) of the input data, and then transforms the data using this to have unit covariance.  Then a \"plug in bandwidth rule\" is used to choose a value of $h>0$.  Finally $K$ is equal to\n",
    "\n",
    "$ K(x) = \\frac{1}{2\\pi h^2} \\exp(- \\|x\\|^2 / 2h^2). $\n",
    "\n",
    "For more details, see the `kernel_estimation.ipynb` notebook under `notebooks`.\n",
    "\n",
    "A more sophisticated KDE would take account of edge effects (we typically only look at a finite area, while the KDE $f$ will have infinite support, so \"predicting\" some events outside of the study area).\n",
    "\n",
    "This tends to give a very (over) smoothly varying kernel."
   ]
  },
  {
   "cell_type": "code",
   "execution_count": 1,
   "metadata": {
    "collapsed": true
   },
   "outputs": [],
   "source": [
    "%matplotlib inline\n",
    "import matplotlib.pyplot as plt\n",
    "import numpy as np\n",
    "import open_cp\n",
    "import open_cp.naive as naive"
   ]
  },
  {
   "cell_type": "code",
   "execution_count": 2,
   "metadata": {
    "collapsed": true
   },
   "outputs": [],
   "source": [
    "# Generate some random data\n",
    "import datetime\n",
    "size = 30\n",
    "times = [datetime.datetime(2017,3,10) + datetime.timedelta(days=np.random.randint(0,10)) for _ in range(size)]\n",
    "times.sort()\n",
    "xc = np.random.random(size=size) * 500\n",
    "yc = np.random.random(size=size) * 500\n",
    "points = open_cp.TimedPoints.from_coords(times, xc, yc)"
   ]
  },
  {
   "cell_type": "code",
   "execution_count": 3,
   "metadata": {},
   "outputs": [
    {
     "data": {
      "text/plain": [
       "GridPredictionArray(offset=(0,0), size=50x50, risk intensity size=10x10)"
      ]
     },
     "execution_count": 3,
     "metadata": {},
     "output_type": "execute_result"
    }
   ],
   "source": [
    "region = open_cp.RectangularRegion(0,500, 0,500)\n",
    "predictor = naive.CountingGridKernel(50, region=region)\n",
    "predictor.data = points\n",
    "prediction = predictor.predict()\n",
    "prediction"
   ]
  },
  {
   "cell_type": "markdown",
   "metadata": {},
   "source": [
    "The following is the \"counting grid\" predictor.  Grid cells which contain 2 past events are ranked higher in risk than those which contain only 1 past event."
   ]
  },
  {
   "cell_type": "code",
   "execution_count": 4,
   "metadata": {},
   "outputs": [
    {
     "data": {
      "image/png": "[encoded data removed]",
      "text/plain": [
       "<matplotlib.figure.Figure at 0x7fea138f4630>"
      ]
     },
     "metadata": {},
     "output_type": "display_data"
    }
   ],
   "source": [
    "fig, ax = plt.subplots(figsize=(10,10))\n",
    "\n",
    "m = ax.pcolor(*prediction.mesh_data(), prediction.intensity_matrix)\n",
    "ax.scatter(points.xcoords, points.ycoords, marker=\"+\", color=\"black\")\n",
    "ax.set(xlim=[0, 500], ylim=[0, 500])\n",
    "cb = plt.colorbar(m, ax=ax)\n",
    "cb.set_label(\"Relative risk\")\n",
    "None"
   ]
  },
  {
   "cell_type": "markdown",
   "metadata": {},
   "source": [
    "We now use the `scipy` Gaussian KDE.  We produce a \"continuous\" prediction, and then sample to a grid of the same size and location as that used before.  Notice that the result is a lot \"smoother\"."
   ]
  },
  {
   "cell_type": "code",
   "execution_count": 5,
   "metadata": {},
   "outputs": [
    {
     "data": {
      "text/plain": [
       "<open_cp.predictors.KernelRiskPredictor at 0x7fea1a002710>"
      ]
     },
     "execution_count": 5,
     "metadata": {},
     "output_type": "execute_result"
    }
   ],
   "source": [
    "predictor = naive.ScipyKDE()\n",
    "predictor.data = points\n",
    "prediction = predictor.predict()\n",
    "prediction"
   ]
  },
  {
   "cell_type": "code",
   "execution_count": 6,
   "metadata": {},
   "outputs": [
    {
     "data": {
      "text/plain": [
       "GridPredictionArray(offset=(0,0), size=50x50, risk intensity size=10x10)"
      ]
     },
     "execution_count": 6,
     "metadata": {},
     "output_type": "execute_result"
    }
   ],
   "source": [
    "gridpred = open_cp.predictors.GridPredictionArray.from_continuous_prediction_region(prediction, region, 50)\n",
    "gridpred"
   ]
  },
  {
   "cell_type": "code",
   "execution_count": 7,
   "metadata": {},
   "outputs": [
    {
     "data": {
      "image/png": "[encoded data removed]",
      "text/plain": [
       "<matplotlib.figure.Figure at 0x7fea10e3fb70>"
      ]
     },
     "metadata": {},
     "output_type": "display_data"
    }
   ],
   "source": [
    "fig, ax = plt.subplots(figsize=(10,10))\n",
    "\n",
    "m = ax.pcolor(*gridpred.mesh_data(), gridpred.intensity_matrix)\n",
    "ax.scatter(points.xcoords, points.ycoords, marker=\"+\", color=\"black\")\n",
    "ax.set(xlim=[0, 500], ylim=[0, 500])\n",
    "cb = plt.colorbar(m, ax=ax)\n",
    "cb.set_label(\"Relative risk\")\n",
    "None"
   ]
  },
  {
   "cell_type": "code",
   "execution_count": null,
   "metadata": {
    "collapsed": true
   },
   "outputs": [],
   "source": []
  }
 ],
 "metadata": {
  "kernelspec": {
   "display_name": "Python 3",
   "language": "python",
   "name": "python3"
  },
  "language_info": {
   "codemirror_mode": {
    "name": "ipython",
    "version": 3
   },
   "file_extension": ".py",
   "mimetype": "text/x-python",
   "name": "python",
   "nbconvert_exporter": "python",
   "pygments_lexer": "ipython3",
   "version": "3.7.1"
  }
 },
 "nbformat": 4,
 "nbformat_minor": 2
}
