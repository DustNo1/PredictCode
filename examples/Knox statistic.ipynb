{
 "cells": [
  {
   "cell_type": "code",
   "execution_count": 1,
   "metadata": {
    "collapsed": true
   },
   "outputs": [],
   "source": [
    "# Allow us to load `open_cp` without installing\n",
    "import sys, os.path\n",
    "sys.path.insert(0, os.path.abspath(\"..\"))\n",
    "\n",
    "%matplotlib inline\n",
    "import matplotlib.pyplot as plt\n",
    "import numpy as np\n",
    "import open_cp"
   ]
  },
  {
   "cell_type": "markdown",
   "metadata": {},
   "source": [
    "# Knox statistic\n",
    "\n",
    "The \"Knox statistic\" is a way of detecting if events are clustered in space and time.  It has been used in the crime predicition literature to find natural \"bandwidths\" for use with, e.g. the prospective space/time scan.\n",
    "\n",
    "References:\n",
    "\n",
    "1. Johnson, Bowers, \"The Burglary as Clue to the Future: The Beginnings of Prospective Hot-Spotting\", European Journal of Criminology Volume: 1 issue: 2, page(s): 237-255.  DOI: https://doi.org/10.1177/1477370804041252\n",
    "2. Johnson, S.D., Bernasco, W., Bowers, K.J. et al. \"Space–Time Patterns of Risk: A Cross National Assessment of Residential Burglary Victimization\", J Quant Criminol (2007) 23: 201. doi:10.1007/s10940-007-9025-3\n",
    "3. Townsley, Homel, Chaseling, \"Infectious Burglaries. A Test of the Near Repeat Hypothesis\" \n",
    "Br J Criminol (2003) 43 (3): 615-633.  https://doi.org/10.1093/bjc/43.3.615 \n",
    "4. Knox, \"Epidemiology of Childhood Leukaemia in Northumberland and Durham\", Br J Prev Soc Med. 1964 Jan; 18(1): 17–24.  [Available here](https://www.ncbi.nlm.nih.gov/pmc/articles/PMC1058931/)\n",
    "5. Besag, Diggle, \"Simple Monte Carlo Tests for Spatial Pattern\",  Journal of the Royal Statistical Society. Series C (Applied Statistics) Vol. 26, No. 3 (1977), pp. 327-333 [Available from JSTOR](https://www.jstor.org/stable/2346974)"
   ]
  },
  {
   "cell_type": "markdown",
   "metadata": {},
   "source": [
    "## The statistic\n",
    "\n",
    "Papers 1--3 give details of the application to crime prediction / analysis.  Paper 4 is the original work of Knox, and paper 5 gives details of the monte carlo method which we use.\n",
    "\n",
    "We start with a set of events which occur in space and time.  For each pair of events, we look at the spatial distance between them, and the time distance.  We count the number of events which are \"close\" (for various cut-off values) in both space and time.  The count of such events is significant if it is extreme compared to the expected count.  In the original work, a Poisson approximation was used, but in our application, the general background rate of e.g. crime varies with space and possibly time, and so model fitting becomes a problem.\n",
    "\n",
    "Instead we adopt a monte carlo approach.  Repeatedly, we shuffle the timestamps of the events, while keeping their locations fixed (as for the Space-Time Scan Statistic) and recompute the counts.  This gives a distribution of counts, and we compute the rank, and hence the p-value, of the real count by comparison.\n",
    "\n",
    "If the count is significant, this gives evidence of \"communicability of crime\" at that level of space and time.  If we repeat this test at different cut-off values, we can tabulate the results, compare [2, page 221].  Be (extremely) aware of the [Multiple comparisons problem](https://en.wikipedia.org/wiki/Multiple_comparisons_problem)."
   ]
  },
  {
   "cell_type": "code",
   "execution_count": 2,
   "metadata": {
    "collapsed": true
   },
   "outputs": [],
   "source": [
    "import open_cp.knox as knox"
   ]
  },
  {
   "cell_type": "markdown",
   "metadata": {
    "collapsed": true
   },
   "source": [
    "## Example from random data"
   ]
  },
  {
   "cell_type": "code",
   "execution_count": 3,
   "metadata": {},
   "outputs": [],
   "source": [
    "import datetime\n",
    "\n",
    "def make_some_data():\n",
    "    x = np.random.random(100) * 1000\n",
    "    y = np.random.random(100) * 1000\n",
    "    times = [datetime.datetime(2017,1,1) + datetime.timedelta(days=20) * t\n",
    "             for t in np.random.random(100)]\n",
    "    times.sort()\n",
    "    return times, x, y"
   ]
  },
  {
   "cell_type": "code",
   "execution_count": 4,
   "metadata": {},
   "outputs": [],
   "source": [
    "calculator = knox.Knox()\n",
    "times, x, y = make_some_data()\n",
    "calculator.data = open_cp.TimedPoints.from_coords(times, x, y)\n",
    "calculator.space_bins = [(0,20), (20,40), (40,80), (80,200)]\n",
    "calculator.set_time_bins([(0,1), (1,2), (2,5), (5,10)], unit=\"days\")\n",
    "cells = calculator.calculate()"
   ]
  },
  {
   "cell_type": "code",
   "execution_count": 5,
   "metadata": {},
   "outputs": [
    {
     "data": {
      "image/png": "[encoded data removed]",
      "text/plain": [
       "<matplotlib.figure.Figure at 0x765a588>"
      ]
     },
     "metadata": {},
     "output_type": "display_data"
    }
   ],
   "source": [
    "fig, ax = plt.subplots(figsize=(8,8))\n",
    "ax.scatter(x, y, marker=\"+\")\n",
    "None"
   ]
  },
  {
   "cell_type": "code",
   "execution_count": 6,
   "metadata": {},
   "outputs": [
    {
     "data": {
      "text/plain": [
       "array([[ 39. ,  99.9,   2.8,  99.9],\n",
       "       [ 56.4,   7.2,  77.7,  58.5],\n",
       "       [  8.9,  91. ,  42.3,  98.4],\n",
       "       [ 65.3,  25.7,  39.8,  84.4]])"
      ]
     },
     "execution_count": 6,
     "metadata": {},
     "output_type": "execute_result"
    }
   ],
   "source": [
    "# p-values\n",
    "cells[...,1] * 100"
   ]
  },
  {
   "cell_type": "code",
   "execution_count": 7,
   "metadata": {},
   "outputs": [
    {
     "data": {
      "text/plain": [
       "(0.58499999999999996,\n",
       " (20, 40),\n",
       " (numpy.timedelta64(432000000,'ms'), numpy.timedelta64(864000000,'ms')))"
      ]
     },
     "execution_count": 7,
     "metadata": {},
     "output_type": "execute_result"
    }
   ],
   "source": [
    "cells[1,3,1], calculator.space_bins[1], calculator.time_bins[3]"
   ]
  },
  {
   "cell_type": "markdown",
   "metadata": {},
   "source": [
    "## Distribution"
   ]
  },
  {
   "cell_type": "code",
   "execution_count": 11,
   "metadata": {},
   "outputs": [],
   "source": [
    "calculator = knox.Knox()\n",
    "calculator.space_bins = [(0,20), (20,40), (40,80), (80,200)]\n",
    "calculator.set_time_bins([(0,1), (1,2), (2,5), (5,10)], unit=\"days\")\n",
    "\n",
    "all_p_values = []\n",
    "for _ in range(1000):\n",
    "    calculator.data = open_cp.TimedPoints.from_coords(*make_some_data())\n",
    "    cells = calculator.calculate()\n",
    "    all_p_values.extend( cells[...,1].flatten() )"
   ]
  },
  {
   "cell_type": "code",
   "execution_count": 17,
   "metadata": {},
   "outputs": [
    {
     "data": {
      "image/png": "[encoded data removed]",
      "text/plain": [
       "<matplotlib.figure.Figure at 0x88feac8>"
      ]
     },
     "metadata": {},
     "output_type": "display_data"
    }
   ],
   "source": [
    "fig, ax = plt.subplots(figsize=(10,6))\n",
    "ax.hist(all_p_values)\n",
    "ax.set_title(\"Histogram of p-values from pure random data\")\n",
    "None"
   ]
  },
  {
   "cell_type": "code",
   "execution_count": null,
   "metadata": {
    "collapsed": true
   },
   "outputs": [],
   "source": []
  }
 ],
 "metadata": {
  "kernelspec": {
   "display_name": "Python 3",
   "language": "python",
   "name": "python3"
  },
  "language_info": {
   "codemirror_mode": {
    "name": "ipython",
    "version": 3
   },
   "file_extension": ".py",
   "mimetype": "text/x-python",
   "name": "python",
   "nbconvert_exporter": "python",
   "pygments_lexer": "ipython3",
   "version": "3.7.1"
  }
 },
 "nbformat": 4,
 "nbformat_minor": 2
}
