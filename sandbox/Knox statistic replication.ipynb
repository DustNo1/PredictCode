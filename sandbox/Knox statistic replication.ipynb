{
 "cells": [
  {
   "cell_type": "markdown",
   "metadata": {},
   "source": [
    "GitHub/PredictCode/examples/Case%20Study%20Chicago%20South%20Side/Knox%20Statistics.ipynb\n"
   ]
  },
  {
   "cell_type": "code",
   "execution_count": 1,
   "metadata": {},
   "outputs": [],
   "source": [
    "import os, csv, lzma\n",
    "import numpy as np\n",
    "import matplotlib.pyplot as plt\n",
    "import matplotlib\n",
    "import descartes\n",
    "from itertools import product\n",
    "from collections import Counter\n",
    "\n",
    "import sys\n",
    "import inspect\n",
    "import importlib\n",
    "\n",
    "sys.path.insert(0, os.path.abspath(\"..\"))"
   ]
  },
  {
   "cell_type": "code",
   "execution_count": 3,
   "metadata": {},
   "outputs": [
    {
     "name": "stdout",
     "output_type": "stream",
     "text": [
      "C:\\Users\\Dustin\\Documents\\GitHub\\PredictCode\\sandbox\\common.py\n",
      "C:\\Users\\Dustin\\Documents\\GitHub\\PredictCode\\open_cp\\knox.py\n"
     ]
    }
   ],
   "source": [
    "from common import *\n",
    "import open_cp.knox\n",
    "\n",
    "print(inspect.getfile(common))\n",
    "print(inspect.getfile(open_cp.knox))"
   ]
  },
  {
   "cell_type": "code",
   "execution_count": 4,
   "metadata": {},
   "outputs": [],
   "source": [
    "\n",
    "datadir = os.path.join(\"..\", \"..\", \"Data\")\n",
    "south_side, points = load_data(datadir)"
   ]
  },
  {
   "cell_type": "code",
   "execution_count": 5,
   "metadata": {},
   "outputs": [
    {
     "name": "stdout",
     "output_type": "stream",
     "text": [
      "3395\n"
     ]
    }
   ],
   "source": [
    "knox = open_cp.knox.Knox()\n",
    "knox.set_time_bins([(i*7,i*7+7) for i in range(10)], unit=\"days\")\n",
    "knox.space_bins = list( (i*100,i*100+100) for i in range(20) )\n",
    "knox.data = points\n",
    "print(len(points.timestamps))"
   ]
  },
  {
   "cell_type": "code",
   "execution_count": 7,
   "metadata": {},
   "outputs": [
    {
     "name": "stdout",
     "output_type": "stream",
     "text": [
      "testing 123\n",
      "got points\n",
      "got dists and times\n",
      "got time_distances\n",
      "got stats\n",
      "0\n",
      "1\n",
      "2\n",
      "3\n",
      "4\n",
      "5\n",
      "6\n",
      "7\n",
      "8\n",
      "9\n",
      "10\n",
      "11\n",
      "12\n",
      "13\n",
      "14\n",
      "15\n",
      "16\n",
      "17\n",
      "18\n",
      "19\n",
      "20\n",
      "21\n",
      "22\n",
      "23\n",
      "24\n",
      "25\n",
      "26\n",
      "27\n",
      "28\n",
      "29\n",
      "30\n",
      "31\n",
      "32\n",
      "33\n",
      "34\n",
      "35\n",
      "36\n",
      "37\n",
      "38\n",
      "39\n",
      "40\n",
      "41\n",
      "42\n",
      "43\n",
      "44\n",
      "45\n",
      "46\n",
      "47\n",
      "48\n",
      "49\n"
     ]
    }
   ],
   "source": [
    "result = knox.calculate(iterations=50)"
   ]
  },
  {
   "cell_type": "code",
   "execution_count": 8,
   "metadata": {},
   "outputs": [],
   "source": [
    "def knox_ratio(statistic, distribution):\n",
    "    \"\"\"As in the paper, compute the ratio of the statistic to the median\n",
    "    of the values in the distribution\"\"\"\n",
    "    d = np.array(distribution)\n",
    "    d.sort()\n",
    "    return statistic / d[len(d)//2]"
   ]
  },
  {
   "cell_type": "code",
   "execution_count": 9,
   "metadata": {},
   "outputs": [],
   "source": [
    "cdict = {'red':   [(0.0,  1.0, 1.0),\n",
    "                   (1.0,  1.0, 1.0)],\n",
    "\n",
    "         'green': [(0.0,  1.0, 1.0),\n",
    "                   (1.0,  0.0, 0.0)],\n",
    "\n",
    "         'blue':  [(0.0,  0.2, 0.2),\n",
    "                   (1.0,  0.2, 0.2)]}\n",
    "my_cmap = matplotlib.colors.LinearSegmentedColormap(\"mycmap\", cdict)\n",
    "mappable = plt.cm.ScalarMappable(cmap=my_cmap)\n",
    "\n",
    "def all_ratios(result):\n",
    "    for i, space_bin in enumerate(result.space_bins):\n",
    "        for j, time_bin in enumerate(result.time_bins):\n",
    "            yield knox_ratio(result.statistic(i,j), result.distribution(i,j))\n",
    "            \n",
    "mappable.set_array(list(all_ratios(result)))\n",
    "mappable.autoscale()"
   ]
  },
  {
   "cell_type": "code",
   "execution_count": 10,
   "metadata": {},
   "outputs": [
    {
     "data": {
      "image/png": "[encoded data removed]",
      "text/plain": [
       "<Figure size 1152x288 with 2 Axes>"
      ]
     },
     "metadata": {
      "needs_background": "light"
     },
     "output_type": "display_data"
    }
   ],
   "source": [
    "fig, ax = plt.subplots(figsize=(16,4))\n",
    "\n",
    "xmin = min(x for x,y in result.space_bins)\n",
    "xmax = max(y for x,y in result.space_bins)\n",
    "ax.set(xlim=(xmin, xmax), xlabel=\"Distance in metres\")\n",
    "\n",
    "_day = np.timedelta64(1,\"D\")\n",
    "ymin = min(t / _day for t,s in result.time_bins)\n",
    "ymax = max(s / _day for t,s in result.time_bins)\n",
    "ax.set(ylim=(ymin, ymax), ylabel=\"Time in days\")\n",
    "\n",
    "for i, space_bin in enumerate(result.space_bins):\n",
    "    for j, time_bin in enumerate(result.time_bins):\n",
    "        if result.pvalue(i,j) >= 0.05:\n",
    "            continue\n",
    "        ratio = knox_ratio(result.statistic(i,j), result.distribution(i,j))\n",
    "        x, y = space_bin[0], time_bin[0] / _day\n",
    "        width = space_bin[1] - space_bin[0]\n",
    "        height = (time_bin[1] - time_bin[0]) / _day\n",
    "        p = matplotlib.patches.Rectangle((x,y), width, height, fc=mappable.to_rgba(ratio))\n",
    "        ax.add_patch(p)\n",
    "        \n",
    "cbar = fig.colorbar(mappable, orientation=\"vertical\")\n",
    "cbar.set_label(\"Knox ratio\")"
   ]
  },
  {
   "cell_type": "code",
   "execution_count": 11,
   "metadata": {},
   "outputs": [
    {
     "data": {
      "image/png": "[encoded data removed]",
      "text/plain": [
       "<Figure size 720x432 with 1 Axes>"
      ]
     },
     "metadata": {
      "needs_background": "light"
     },
     "output_type": "display_data"
    }
   ],
   "source": [
    "fig, ax = plt.subplots(figsize=(10,6))\n",
    "\n",
    "d = np.array(result.distribution(0,0))\n",
    "d.sort()\n",
    "\n",
    "x = np.linspace(350, 650, 100)\n",
    "y = [ np.sum(d <= xx) / len(d) * 100 for xx in x ]\n",
    "ax.plot(x,y)\n",
    "\n",
    "a = result.statistic(0,0)\n",
    "\n",
    "ax.plot([a,a], [0, 100])\n",
    "ax.set(xlabel=\"Cumulative probability\", ylabel=\"Statistic\")\n",
    "ax.set_title(\"Monte carlo derived distributio of statistic, and actual value, for pairs of events <=100m and <=1 week\")\n",
    "None"
   ]
  }
 ],
 "metadata": {
  "kernelspec": {
   "display_name": "Python 3",
   "language": "python",
   "name": "python3"
  },
  "language_info": {
   "codemirror_mode": {
    "name": "ipython",
    "version": 3
   },
   "file_extension": ".py",
   "mimetype": "text/x-python",
   "name": "python",
   "nbconvert_exporter": "python",
   "pygments_lexer": "ipython3",
   "version": "3.7.2"
  }
 },
 "nbformat": 4,
 "nbformat_minor": 2
}
