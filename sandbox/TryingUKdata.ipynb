{
 "cells": [
  {
   "cell_type": "code",
   "execution_count": 1,
   "metadata": {},
   "outputs": [],
   "source": [
    "import os, csv, lzma\n",
    "\n",
    "import numpy as np\n",
    "import matplotlib.pyplot as plt\n",
    "\n",
    "import geopandas as gpd\n",
    "import pyproj\n",
    "import shapely.geometry\n",
    "\n",
    "import sys\n",
    "import inspect\n",
    "import importlib\n",
    "sys.path.insert(0, \"..\")\n"
   ]
  },
  {
   "cell_type": "code",
   "execution_count": 2,
   "metadata": {},
   "outputs": [
    {
     "name": "stdout",
     "output_type": "stream",
     "text": [
      "..\\open_cp\\sources\\ukpolice.py\n"
     ]
    }
   ],
   "source": [
    "import open_cp.sources.ukpolice as ukpolice\n",
    "print(inspect.getfile(ukpolice))"
   ]
  },
  {
   "cell_type": "code",
   "execution_count": 3,
   "metadata": {},
   "outputs": [],
   "source": [
    "points = ukpolice.default_burglary_data()"
   ]
  },
  {
   "cell_type": "code",
   "execution_count": 4,
   "metadata": {},
   "outputs": [
    {
     "name": "stdout",
     "output_type": "stream",
     "text": [
      "..\\open_cp\\sources\\ukpolice.py\n"
     ]
    },
    {
     "data": {
      "text/plain": [
       "2358"
      ]
     },
     "execution_count": 4,
     "metadata": {},
     "output_type": "execute_result"
    }
   ],
   "source": [
    "import open_cp.sources.ukpolice as ukpolice\n",
    "print(inspect.getfile(ukpolice))\n",
    "points = ukpolice.default_burglary_data()\n",
    "len(points.timestamps)"
   ]
  },
  {
   "cell_type": "code",
   "execution_count": 5,
   "metadata": {},
   "outputs": [
    {
     "name": "stdout",
     "output_type": "stream",
     "text": [
      "..\\open_cp\\sources\\ukpolice.py\n"
     ]
    }
   ],
   "source": [
    "sys.path.insert(0,\"..\")\n",
    "import open_cp.sources.ukpolice as ukp\n",
    "print(inspect.getfile(ukp))"
   ]
  },
  {
   "cell_type": "code",
   "execution_count": 6,
   "metadata": {
    "scrolled": true
   },
   "outputs": [
    {
     "name": "stdout",
     "output_type": "stream",
     "text": [
      "..\\open_cp\\sources\\ukpolice.py\n"
     ]
    }
   ],
   "source": [
    "sys.path.insert(0,os.path.join(\"..\", \"open_cp\", \"sources\", \"ukpolice\"))\n",
    "import open_cp.sources.ukpolice as ukp3\n",
    "print(inspect.getfile(ukp3))"
   ]
  },
  {
   "cell_type": "code",
   "execution_count": 7,
   "metadata": {},
   "outputs": [
    {
     "ename": "AttributeError",
     "evalue": "module 'open_cp.sources.ukpolice' has no attribute 'blah'",
     "output_type": "error",
     "traceback": [
      "\u001b[1;31m---------------------------------------------------------------------------\u001b[0m",
      "\u001b[1;31mAttributeError\u001b[0m                            Traceback (most recent call last)",
      "\u001b[1;32m<ipython-input-7-cd3201b3a783>\u001b[0m in \u001b[0;36m<module>\u001b[1;34m\u001b[0m\n\u001b[0;32m      6\u001b[0m \u001b[0mimportlib\u001b[0m\u001b[1;33m.\u001b[0m\u001b[0mreload\u001b[0m\u001b[1;33m(\u001b[0m\u001b[0msources\u001b[0m\u001b[1;33m)\u001b[0m\u001b[1;33m\u001b[0m\u001b[1;33m\u001b[0m\u001b[0m\n\u001b[0;32m      7\u001b[0m \u001b[0mimportlib\u001b[0m\u001b[1;33m.\u001b[0m\u001b[0mreload\u001b[0m\u001b[1;33m(\u001b[0m\u001b[0mukpolice\u001b[0m\u001b[1;33m)\u001b[0m\u001b[1;33m\u001b[0m\u001b[1;33m\u001b[0m\u001b[0m\n\u001b[1;32m----> 8\u001b[1;33m \u001b[0mukpolice\u001b[0m\u001b[1;33m.\u001b[0m\u001b[0mblah\u001b[0m\u001b[1;33m(\u001b[0m\u001b[1;33m)\u001b[0m\u001b[1;33m\u001b[0m\u001b[1;33m\u001b[0m\u001b[0m\n\u001b[0m\u001b[0;32m      9\u001b[0m \u001b[0mpoints\u001b[0m \u001b[1;33m=\u001b[0m \u001b[0mukpolice\u001b[0m\u001b[1;33m.\u001b[0m\u001b[0mdefault_burglary_data\u001b[0m\u001b[1;33m(\u001b[0m\u001b[1;33m)\u001b[0m\u001b[1;33m\u001b[0m\u001b[1;33m\u001b[0m\u001b[0m\n\u001b[0;32m     10\u001b[0m \u001b[1;31m#len(points.timestamps)\u001b[0m\u001b[1;33m\u001b[0m\u001b[1;33m\u001b[0m\u001b[1;33m\u001b[0m\u001b[0m\n",
      "\u001b[1;31mAttributeError\u001b[0m: module 'open_cp.sources.ukpolice' has no attribute 'blah'"
     ]
    }
   ],
   "source": [
    "sys.path.insert(0, \"..\")\n",
    "import open_cp\n",
    "import open_cp.sources as sources\n",
    "import open_cp.sources.ukpolice as ukpolice\n",
    "importlib.reload(open_cp.sources.ukpolice)\n",
    "importlib.reload(sources)\n",
    "importlib.reload(ukpolice)\n",
    "ukpolice.blah()\n",
    "points = ukpolice.default_burglary_data()\n",
    "#len(points.timestamps)"
   ]
  }
 ],
 "metadata": {
  "kernelspec": {
   "display_name": "Python 3",
   "language": "python",
   "name": "python3"
  },
  "language_info": {
   "codemirror_mode": {
    "name": "ipython",
    "version": 3
   },
   "file_extension": ".py",
   "mimetype": "text/x-python",
   "name": "python",
   "nbconvert_exporter": "python",
   "pygments_lexer": "ipython3",
   "version": "3.7.2"
  }
 },
 "nbformat": 4,
 "nbformat_minor": 2
}
