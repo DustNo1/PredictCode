{
 "cells": [
  {
   "cell_type": "markdown",
   "metadata": {},
   "source": [
    "EvalCustomGeneric"
   ]
  },
  {
   "cell_type": "code",
   "execution_count": 1,
   "metadata": {},
   "outputs": [],
   "source": [
    "# Some fairly standard modules\n",
    "import os, csv, lzma\n",
    "import numpy as np\n",
    "import matplotlib.pyplot as plt\n",
    "import matplotlib\n",
    "import descartes\n",
    "from itertools import product\n",
    "from collections import Counter\n",
    "\n",
    "# The geopandas module does not come standard with anaconda,\n",
    "# so you'll need to run the anaconda prompt as an administrator\n",
    "# and install it via \"conda install -c conda-forge geopandas\".\n",
    "# That installation will include pyproj and shapely automatically.\n",
    "# These are useful modules for plotting geospatial data.\n",
    "import geopandas as gpd\n",
    "import pyproj\n",
    "import shapely.geometry\n",
    "\n",
    "# These modules are useful for tracking where modules are\n",
    "# imported from, e.g., to check we're using our local edited\n",
    "# versions of open_cp scripts.\n",
    "import sys\n",
    "import inspect\n",
    "import importlib\n",
    "\n",
    "# In order to use our local edited versions of open_cp\n",
    "# scripts, we insert the parent directory of the current\n",
    "# file (\"..\") at the start of our sys.path here.\n",
    "sys.path.insert(0, os.path.abspath(\"..\"))\n",
    "\n",
    "# Elements from PredictCode's custom \"open_cp\" package\n",
    "import open_cp\n",
    "import open_cp.geometry\n",
    "import open_cp.plot\n",
    "import open_cp.sources.chicago as chicago\n",
    "import open_cp.retrohotspot as retro"
   ]
  },
  {
   "cell_type": "code",
   "execution_count": 8,
   "metadata": {},
   "outputs": [],
   "source": [
    "# Declare data directory\n",
    "datadir = os.path.join(\"..\", \"..\", \"Data\")\n",
    "# *** data directory\n",
    "\n",
    "chicago_file_path = os.path.join(datadir, \"chicago.csv\")\n",
    "# *** file name (or just combine with data directory)\n",
    "\n",
    "# Set the data directory for built-in Chicago functions\n",
    "#chicago.set_data_directory(datadir)\n",
    "\n",
    "# Obtain polygon shapely object for South side\n",
    "region_polygon = chicago.get_side(\"South\")\n",
    "# *** which side of Chicago\n",
    "\n",
    "# Obtain GeoDataFrame with polygon's geometry\n",
    "#  and with CRS epsg:2790\n",
    "#ss_frame = gpd.GeoDataFrame({\"name\":[\"South Side\"]})\n",
    "#ss_frame.geometry = [ss_polygon]\n",
    "#ss_frame.crs = {\"init\":\"epsg:2790\"}"
   ]
  },
  {
   "cell_type": "code",
   "execution_count": 16,
   "metadata": {},
   "outputs": [
    {
     "name": "stdout",
     "output_type": "stream",
     "text": [
      "<class 'open_cp.data.TimedPoints'>\n",
      "<class 'open_cp.data.TimedPoints'>\n",
      "<class 'open_cp.data.TimedPoints'>\n",
      "<class 'open_cp.data.TimedPoints'>\n",
      "True\n",
      "True\n",
      "True\n"
     ]
    }
   ],
   "source": [
    "# Obtain all Chicago theft data in file as TimedPoints\n",
    "points_crime = chicago.load(chicago_file_path, {\"THEFT\"})\n",
    "# *** which type of crime\n",
    "\n",
    "# Declare time boundaries for training and testing data\n",
    "start_train = np.datetime64(\"2018-03-01\")\n",
    "end_train = np.datetime64(\"2018-05-01\")\n",
    "start_test = np.datetime64(\"2018-05-01\")\n",
    "end_test = np.datetime64(\"2018-06-01\")\n",
    "# *** 4 different time boundaries\n",
    "\n",
    "\n",
    "# Obtain all Chicago theft data within training period\n",
    "points_crime_train = points_crime[(points_crime.timestamps >= start_train) \n",
    "                & (points_crime.timestamps <= end_train)]\n",
    "\n",
    "# Obtain subset from South Side\n",
    "\n",
    "points_crime_train_region = open_cp.geometry.intersect_timed_points(points_crime_train,\n",
    "                                                                region_polygon)\n",
    "\n",
    "print(type(points_crime))\n",
    "print(type(points_crime_train))\n",
    "\n",
    "points_crime_region = open_cp.geometry.intersect_timed_points(points_crime, region_polygon)\n",
    "\n",
    "points_crime_region_train = points_crime_region[(points_crime_region.timestamps >= start_train) \n",
    "                & (points_crime_region.timestamps <= end_train)]\n",
    "\n",
    "print(type(points_crime_train_region))\n",
    "print(type(points_crime_region_train))\n",
    "print(all(points_crime_train_region.timestamps == points_crime_region_train.timestamps))\n",
    "print(all(points_crime_train_region.xcoords == points_crime_region_train.xcoords))\n",
    "print(all(points_crime_train_region.ycoords == points_crime_region_train.ycoords))"
   ]
  },
  {
   "cell_type": "code",
   "execution_count": 7,
   "metadata": {},
   "outputs": [
    {
     "name": "stdout",
     "output_type": "stream",
     "text": [
      "961\n"
     ]
    }
   ],
   "source": [
    "# Get masked grid\n",
    "masked_grid_ss = open_cp.geometry.mask_grid_by_intersection(ss_polygon, open_cp.data.Grid(xsize=250, ysize=250, xoffset=0, yoffset=0))\n",
    "# *** size of cells, actually both width and height\n",
    "\n",
    "# Obtain number of cells in the grid that contain relevant geometry\n",
    "# (i.e., not the full rectangular grid, only relevant cells)\n",
    "num_cells = np.sum(~masked_grid_ss_250.mask)\n"
   ]
  },
  {
   "cell_type": "code",
   "execution_count": null,
   "metadata": {},
   "outputs": [],
   "source": []
  }
 ],
 "metadata": {
  "kernelspec": {
   "display_name": "Python 3",
   "language": "python",
   "name": "python3"
  },
  "language_info": {
   "codemirror_mode": {
    "name": "ipython",
    "version": 3
   },
   "file_extension": ".py",
   "mimetype": "text/x-python",
   "name": "python",
   "nbconvert_exporter": "python",
   "pygments_lexer": "ipython3",
   "version": "3.7.2"
  }
 },
 "nbformat": 4,
 "nbformat_minor": 2
}
