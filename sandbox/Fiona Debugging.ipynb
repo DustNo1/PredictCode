{
 "cells": [
  {
   "cell_type": "code",
   "execution_count": 2,
   "metadata": {},
   "outputs": [
    {
     "name": "stdout",
     "output_type": "stream",
     "text": [
      "Cannot find file C:\\Users\\lawdfo\\Documents\\GitHub\\Data\\Chicago_South_Side_2790asdf.geojson\n"
     ]
    }
   ],
   "source": [
    "import os\n",
    "import geopandas as gpd\n",
    "\n",
    "geojson_file_path = \"~/Documents/GitHub/Data/Chicago_South_Side_2790asdf.geojson\"\n",
    "\n",
    "geojson_file_path = os.path.expanduser(os.path.normpath(geojson_file_path))\n",
    "\n",
    "# Confirm file exists\n",
    "if os.path.isfile(geojson_file_path):\n",
    "    print(f\"Reading file {geojson_file_path}\")\n",
    "    polygon = gpd.read_file(geojson_file_path)\n",
    "    print(polygon)\n",
    "else:\n",
    "    print(f\"Cannot find file {geojson_file_path}\")"
   ]
  },
  {
   "cell_type": "code",
   "execution_count": null,
   "metadata": {},
   "outputs": [],
   "source": []
  }
 ],
 "metadata": {
  "kernelspec": {
   "display_name": "Python 3",
   "language": "python",
   "name": "python3"
  },
  "language_info": {
   "codemirror_mode": {
    "name": "ipython",
    "version": 3
   },
   "file_extension": ".py",
   "mimetype": "text/x-python",
   "name": "python",
   "nbconvert_exporter": "python",
   "pygments_lexer": "ipython3",
   "version": "3.7.1"
  }
 },
 "nbformat": 4,
 "nbformat_minor": 2
}
