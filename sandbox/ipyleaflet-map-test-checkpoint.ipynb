{
 "cells": [
  {
   "cell_type": "markdown",
   "metadata": {},
   "source": [
    "# Ipyleaflet Tests"
   ]
  },
  {
   "cell_type": "markdown",
   "metadata": {},
   "source": [
    "After conda installing Ipyleaflet we need to enable some notebook extensions. "
   ]
  },
  {
   "cell_type": "code",
   "execution_count": 1,
   "metadata": {
    "scrolled": true
   },
   "outputs": [
    {
     "name": "stderr",
     "output_type": "stream",
     "text": [
      "Enabling notebook extension jupyter-leaflet/extension...\n",
      "      - Validating: ok\n"
     ]
    }
   ],
   "source": [
    "!jupyter nbextension enable --py --sys-prefix ipyleaflet"
   ]
  },
  {
   "cell_type": "markdown",
   "metadata": {},
   "source": [
    "#### GeoJSON File for police force areas\n",
    "\n",
    "The Durham Police FOrce area boundary was extracted from the file found here: \n",
    "\n",
    "https://data.gov.uk/dataset/21d01f82-5799-428a-b001-5a9d89dc7ae2/police-force-areas-december-2016-super-generalised-clipped-boundaries-in-england-and-wales\n",
    "\n",
    "I used http://geojson.io to extract just Durham. \n",
    "\n"
   ]
  },
  {
   "cell_type": "markdown",
   "metadata": {},
   "source": [
    "Then we create a map and centre it on Durham"
   ]
  },
  {
   "cell_type": "code",
   "execution_count": 11,
   "metadata": {},
   "outputs": [],
   "source": [
    "# Import ipyleaflet tools\n",
    "\n",
    "from ipyleaflet import *"
   ]
  },
  {
   "cell_type": "code",
   "execution_count": 13,
   "metadata": {
    "scrolled": false
   },
   "outputs": [
    {
     "data": {
      "application/vnd.jupyter.widget-view+json": {
       "model_id": "102bef3c8de54e40b1794eecd184716c",
       "version_major": 2,
       "version_minor": 0
      },
      "text/plain": [
       "Map(basemap={'url': 'https://{s}.tile.openstreetmap.org/{z}/{x}/{y}.png', 'max_zoom': 19, 'attribution': 'Map …"
      ]
     },
     "metadata": {},
     "output_type": "display_data"
    }
   ],
   "source": [
    "# Name of GeoJson file with events to map\n",
    "events_geojson = \"../../Data/tempdatapoints.geojson\"\n",
    "# Name of GeoJson file with risk scores for relevant cells\n",
    "cells_geojson = \"../../Data/tempcells3.geojson\"\n",
    "# Name of the property in GeoJSON file to map\n",
    "property_name = \"phs-6W-1500-score\"\n",
    "\n",
    "\n",
    "# Instantiate a map centred at Durham\n",
    "m = Map(center=[54.776100, -1.573300], zoom=10)\n",
    "\n",
    "\n",
    "\"\"\"\n",
    "# Create outline of police force area of Durham as layer on map\n",
    "with open(\"../../Data/Police_Force_Areas_December_2016_Durham_fixed.geojson\", 'r') as f:\n",
    "    data = json.load(f)\n",
    "\n",
    "geo_json = GeoJSON(data=data, style = {'color': 'green', 'opacity':.5, 'weight':1.9, 'dashArray':'9', 'fillOpacity':0.1})\n",
    "m.add_layer(geo_json)\n",
    "\"\"\"\n",
    "\n",
    "with open(cells_geojson) as cg:\n",
    "    cells = json.load(cg)\n",
    "\n",
    "\n",
    "# Obtain relevant scores from GeoJSON file\n",
    "score_mapping = dict()\n",
    "for feat in cells['features']:\n",
    "    score_mapping[feat['id']] = feat['properties'][property_name]\n",
    "\n",
    "\n",
    "# Create map layer with color-coded cells reperenting risk scores\n",
    "from branca.colormap import linear\n",
    "layer = Choropleth(\n",
    "    geo_data=cells,\n",
    "    choro_data=score_mapping,\n",
    "    colormap=linear.YlOrRd_04,\n",
    "    border_color='transparent',\n",
    "    style={'fillOpacity': 0.8})\n",
    "m.add_layer(layer)\n",
    "\n",
    "\n",
    "# Create map layer with circles reperenting crime events\n",
    "with open(events_geojson) as eg:\n",
    "    datapoints = json.load(eg)\n",
    "geojson_datapoints = GeoJSON(data=datapoints, point_style={'color': 'transparent', 'fillColor': 'black', 'radius': 5})\n",
    "m.add_layer(geojson_datapoints)\n",
    "\n",
    "\n",
    "# Display the map\n",
    "m"
   ]
  },
  {
   "cell_type": "markdown",
   "metadata": {},
   "source": [
    "### Thoughts on generating a grid\n",
    "You might be able to create the grid in geopandas (this may already happen) and then save it out as a GeoJSON file - I think the following command *dataframe.to_file(\"output.json\", driver=\"GeoJSON\")*\n",
    "\n",
    "Options: \n",
    "1. Most Robust - have the grid created dynamically and turned into a GeoJSON \n",
    "2. Less Robust fallback - we manually create grids for the region of arbitrary sizes - but I do worry  \n",
    "\n",
    "\n",
    "### Some resources for generating colouring based on GeoJSON features\n",
    "\n",
    "https://pypi.org/project/choropleth-geojson/\n",
    "\n"
   ]
  },
  {
   "cell_type": "code",
   "execution_count": null,
   "metadata": {},
   "outputs": [],
   "source": []
  }
 ],
 "metadata": {
  "kernelspec": {
   "display_name": "Python 3",
   "language": "python",
   "name": "python3"
  },
  "language_info": {
   "codemirror_mode": {
    "name": "ipython",
    "version": 3
   },
   "file_extension": ".py",
   "mimetype": "text/x-python",
   "name": "python",
   "nbconvert_exporter": "python",
   "pygments_lexer": "ipython3",
   "version": "3.7.1"
  }
 },
 "nbformat": 4,
 "nbformat_minor": 2
}
