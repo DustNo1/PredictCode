{
 "cells": [
  {
   "cell_type": "markdown",
   "metadata": {},
   "source": [
    "# Ipyleaflet Tests"
   ]
  },
  {
   "cell_type": "markdown",
   "metadata": {},
   "source": [
    "After conda installing Ipyleaflet we need to enable some notebook extensions. "
   ]
  },
  {
   "cell_type": "code",
   "execution_count": 1,
   "metadata": {
    "scrolled": true
   },
   "outputs": [
    {
     "name": "stderr",
     "output_type": "stream",
     "text": [
      "Enabling notebook extension jupyter-leaflet/extension...\n",
      "      - Validating: ok\n"
     ]
    }
   ],
   "source": [
    "!jupyter nbextension enable --py --sys-prefix ipyleaflet"
   ]
  },
  {
   "cell_type": "markdown",
   "metadata": {},
   "source": [
    "#### GeoJSON File for police force areas\n",
    "\n",
    "The Durham Police FOrce area boundary was extracted from the file found here: \n",
    "\n",
    "https://data.gov.uk/dataset/21d01f82-5799-428a-b001-5a9d89dc7ae2/police-force-areas-december-2016-super-generalised-clipped-boundaries-in-england-and-wales\n",
    "\n",
    "I used http://geojson.io to extract just durham. \n",
    "\n"
   ]
  },
  {
   "cell_type": "markdown",
   "metadata": {},
   "source": [
    "Then we create a map and centre it on Durham"
   ]
  },
  {
   "cell_type": "code",
   "execution_count": 2,
   "metadata": {},
   "outputs": [
    {
     "name": "stdout",
     "output_type": "stream",
     "text": [
      "<class 'ipyleaflet.leaflet.Map'>\n"
     ]
    },
    {
     "data": {
      "application/vnd.jupyter.widget-view+json": {
       "model_id": "279ddbce12824696bd5789363f015d8c",
       "version_major": 2,
       "version_minor": 0
      },
      "text/plain": [
       "Map(basemap={'url': 'https://{s}.tile.openstreetmap.org/{z}/{x}/{y}.png', 'max_zoom': 19, 'attribution': 'Map …"
      ]
     },
     "metadata": {},
     "output_type": "display_data"
    }
   ],
   "source": [
    "from ipyleaflet import *\n",
    "\n",
    "m = Map(center=[54.776100, -1.573300], zoom=10)\n",
    "print(type(m))\n",
    "m"
   ]
  },
  {
   "cell_type": "code",
   "execution_count": 4,
   "metadata": {},
   "outputs": [],
   "source": [
    "# We now load the police force area GeoJSON file and add it as a layer to the map \n",
    "\n",
    "with open(\"../../Data/Police_Force_Areas_December_2016_Durham_fixed.geojson\", 'r') as f:\n",
    "    data = json.load(f)\n",
    "\n",
    "geo_json = GeoJSON(data=data, style = {'color': 'green', 'opacity':1, 'weight':1.9, 'dashArray':'9', 'fillOpacity':0.1})\n",
    "m.add_layer(geo_json)\n",
    "\n",
    "\n",
    "\"\"\"\n",
    "with open(\"../../Data/tempdatapoints.geojson\") as g:\n",
    "    datapoints = json.load(g)\n",
    "geojson_datapoints = GeoJSON(data=datapoints, style={'color': 'red', 'fillColor': 'blue', 'radius': 10})\n",
    "m.add_layer(geojson_datapoints)\n",
    "\"\"\"\n",
    "\n",
    "\n",
    "with open(\"../../Data/tempcells.geojson\") as g:\n",
    "    cells = json.load(g)\n",
    "geojson_cells = GeoJSON(data=cells, style={'color': 'red', 'fillColor': 'blue', 'weight': 3})\n",
    "m.add_layer(geojson_cells)\n",
    "\n",
    "\n"
   ]
  },
  {
   "cell_type": "markdown",
   "metadata": {},
   "source": [
    "### Thoughts on generating a grid\n",
    "You might be able to create the grid in geopandas (this may already happen) and then save it out as a GeoJSON file - I think the following command *dataframe.to_file(\"output.json\", driver=\"GeoJSON\")*\n",
    "\n",
    "Options: \n",
    "1. Most Robust - have the grid created dynamically and turned into a GeoJSON \n",
    "2. Less Robust fallback - we manually create grids for the region of arbitrary sizes - but I do worry  \n",
    "\n",
    "\n",
    "### Some resources for generating colouring based on GeoJSON features\n",
    "\n",
    "https://pypi.org/project/choropleth-geojson/\n",
    "\n"
   ]
  },
  {
   "cell_type": "code",
   "execution_count": null,
   "metadata": {},
   "outputs": [],
   "source": []
  }
 ],
 "metadata": {
  "kernelspec": {
   "display_name": "Python 3",
   "language": "python",
   "name": "python3"
  },
  "language_info": {
   "codemirror_mode": {
    "name": "ipython",
    "version": 3
   },
   "file_extension": ".py",
   "mimetype": "text/x-python",
   "name": "python",
   "nbconvert_exporter": "python",
   "pygments_lexer": "ipython3",
   "version": "3.7.1"
  }
 },
 "nbformat": 4,
 "nbformat_minor": 2
}
