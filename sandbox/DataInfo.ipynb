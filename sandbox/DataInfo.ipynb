{
 "cells": [
  {
   "cell_type": "markdown",
   "metadata": {},
   "source": [
    "Here are useful modules to import from the outset."
   ]
  },
  {
   "cell_type": "code",
   "execution_count": 3,
   "metadata": {},
   "outputs": [
    {
     "name": "stdout",
     "output_type": "stream",
     "text": [
      "C:\\Users\\Dustin\\Documents\\GitHub\\PredictCode\\open_cp\\sources\\chicago.py\n",
      "C:\\Users\\Dustin\\Documents\\GitHub\\PredictCode\\open_cp\\sources\\ukpolice.py\n"
     ]
    }
   ],
   "source": [
    "# Some fairly standard modules\n",
    "import os, csv, lzma\n",
    "import numpy as np\n",
    "import matplotlib.pyplot as plt\n",
    "\n",
    "# The geopandas module does not come standard with anaconda,\n",
    "# so you'll need to run the anaconda prompt as an administrator\n",
    "# and install it via \"conda install -c conda-forge geopandas\".\n",
    "# That installation will include pyproj and shapely automatically.\n",
    "# These are useful modules for plotting geospatial data.\n",
    "import geopandas as gpd\n",
    "import pyproj\n",
    "import shapely.geometry\n",
    "\n",
    "# These modules are useful for tracking where modules are\n",
    "# imported from, e.g., to check we're using our local edited\n",
    "# versions of open_cp scripts.\n",
    "import sys\n",
    "import inspect\n",
    "import importlib\n",
    "\n",
    "# In order to use our local edited versions of open_cp\n",
    "# scripts, we insert the parent directory of the current\n",
    "# file (\"..\") at the start of our sys.path here.\n",
    "sys.path.insert(0, os.path.abspath(\"..\"))\n",
    "\n",
    "# Elements from PredictCode's custom \"open_cp\" package\n",
    "import open_cp.sources.chicago as chicago\n",
    "import open_cp.sources.ukpolice as ukpolice\n",
    "\n",
    "# Confirm we're using local versions of code\n",
    "print(inspect.getfile(chicago))\n",
    "print(inspect.getfile(ukpolice))\n"
   ]
  },
  {
   "cell_type": "markdown",
   "metadata": {},
   "source": [
    "# Chicago data\n",
    "\n",
    "Download data from here\n",
    "* Past year: [https://catalog.data.gov/dataset/crimes-one-year-prior-to-present-e171f](https://catalog.data.gov/dataset/crimes-one-year-prior-to-present-e171f)\n",
    "* Everything since 2001: [https://catalog.data.gov/dataset/crimes-2001-to-present-398a4](https://catalog.data.gov/dataset/crimes-2001-to-present-398a4)\n",
    "\n",
    "The open_cp code (open_cp.sources.chicago) expects data files with these names:\n",
    "* chicago.csv\n",
    "* uk_police.csv\n",
    "\n",
    "Some functions also expect a file named `Chicago_areas.geojson` in the same datadir. That file can be downloaded at https://data.cityofchicago.org/Facilities-Geographic-Boundaries/Boundaries-Community-Areas-current-/cauq-8yn6"
   ]
  },
  {
   "cell_type": "markdown",
   "metadata": {},
   "source": [
    "# UK data\n",
    "\n",
    "Download data from here\n",
    "* [https://data.police.uk/data/](https://data.police.uk/data/)\n",
    "\n",
    "The data available ranges from January 2016 to December 2018. However, files are divided by month and need to be manually merged. Also, there is no finer-grained time information than the month of the crime. An example in the \"Example Data Sets\" notebook just uses data from the month of January 2017 from West Yorkshire, which contains 2358 instances of burglary.\n",
    "\n",
    "The open_cp code (open_cp.sources.ukpolice) expects a data file in its same directory (open_cp/sources) with this name:\n",
    "* uk_police.csv\n",
    "\n",
    "NOTE: The existing code in open_cp.sources.ukpolice did not play nicely with Windows filenames. This line:\n",
    "\n",
    "`_default_filename = os.path.join(os.path.split(__file__)[0],\"uk_police.csv\")`\n",
    "\n",
    "needed to be replaced with this line:\n",
    "\n",
    "`_default_filename = os.path.join(os.path.split(os.path.abspath(__file__))[0],\"uk_police.csv\")`"
   ]
  },
  {
   "cell_type": "code",
   "execution_count": null,
   "metadata": {},
   "outputs": [],
   "source": []
  }
 ],
 "metadata": {
  "kernelspec": {
   "display_name": "Python 3",
   "language": "python",
   "name": "python3"
  },
  "language_info": {
   "codemirror_mode": {
    "name": "ipython",
    "version": 3
   },
   "file_extension": ".py",
   "mimetype": "text/x-python",
   "name": "python",
   "nbconvert_exporter": "python",
   "pygments_lexer": "ipython3",
   "version": "3.7.2"
  }
 },
 "nbformat": 4,
 "nbformat_minor": 2
}
