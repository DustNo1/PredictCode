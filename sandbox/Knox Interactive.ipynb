{
 "cells": [
  {
   "cell_type": "code",
   "execution_count": 24,
   "metadata": {},
   "outputs": [],
   "source": [
    "import sys\n",
    "import os\n",
    "import importlib\n",
    "import geopandas as gpd\n",
    "import statistics\n",
    "import time\n",
    "\n",
    "# In order to use our local edited versions of open_cp\n",
    "# scripts, we insert the parent directory of the current\n",
    "# file (\"..\") at the start of our sys.path here.\n",
    "sys.path.insert(0, os.path.abspath(\"..\"))\n",
    "\n",
    "# Elements from PredictCode's custom \"open_cp\" package\n",
    "import open_cp\n",
    "import open_cp.knox\n",
    "\n",
    "#import riskModelsGeneric\n",
    "#importlib.reload(riskModelsGeneric)\n",
    "import knoxAnalysis\n",
    "importlib.reload(knoxAnalysis)\n",
    "from knoxAnalysis import make_knox_info_file, make_graphs_from_knox_file"
   ]
  },
  {
   "cell_type": "markdown",
   "metadata": {},
   "source": [
    "Some default arguments for Chicago data"
   ]
  },
  {
   "cell_type": "code",
   "execution_count": 3,
   "metadata": {},
   "outputs": [],
   "source": [
    "\n",
    "# Location of data file\n",
    "datadir = \"../../Data\"\n",
    "\n",
    "# Input csv file name\n",
    "in_csv_file_name = \"chi_all_s_BURGLARY_RES_010101_190101_stdXY.csv\"\n",
    "\n",
    "# Output file for Knox info\n",
    "knox_file_name = \"knoxtestingB.txt\"\n",
    "\n",
    "# Geojson file\n",
    "geojson_file_name = \"Chicago_South_Side_2790.geojson\"\n",
    "\n",
    "crime_types = \"BURGLARY\"\n",
    "\n",
    "num_knox_iterations = 200\n",
    "\n",
    "#sbin in meters\n",
    "knox_sbin_size = 100\n",
    "knox_sbin_num = 10\n",
    "#tbin in days\n",
    "knox_tbin_size = 7\n",
    "knox_tbin_num = 8\n",
    "\n",
    "# Date in format YYYY-MM-DD\n",
    "first_test_end = \"2017-05-01\"\n",
    "time_window_size = \"4M\"\n",
    "time_step = \"1M\"\n",
    "num_experiments = 4\n",
    "\n",
    "# CSV formatting parameters\n",
    "# If Chicago data:\n",
    "csv_date_format = \"%m/%d/%Y %I:%M:%S %p\"\n",
    "csv_longlat = False\n",
    "csv_epsg = None\n",
    "csv_infeet = True\n",
    "csv_has_header = True"
   ]
  },
  {
   "cell_type": "markdown",
   "metadata": {},
   "source": [
    "Some default arguments for Fantasy Durham data"
   ]
  },
  {
   "cell_type": "code",
   "execution_count": 25,
   "metadata": {},
   "outputs": [],
   "source": [
    "\n",
    "# Location of data file\n",
    "datadir = \"../../Data\"\n",
    "\n",
    "# Input csv file name\n",
    "in_csv_file_name = \"Fantasy-Durham-Data_std.csv\"\n",
    "\n",
    "# Output file for Knox info\n",
    "knoxrun_file_name = \"knoxtestingFD2.txt\"\n",
    "\n",
    "# Geojson file\n",
    "geojson_file_name = \"Durham_27700.geojson\"\n",
    "\n",
    "crime_types = \"Burglary, Vehicle crime\"\n",
    "\n",
    "num_knox_iterations = 200\n",
    "\n",
    "#sbin in meters\n",
    "knox_sbin_size = 200\n",
    "knox_sbin_num = 10\n",
    "#tbin in days\n",
    "knox_tbin_size = 7\n",
    "knox_tbin_num = 4\n",
    "\n",
    "# Date in format YYYY-MM-DD\n",
    "first_test_end = \"2019-09-01\"\n",
    "time_window_size = \"1M\"\n",
    "time_step = \"1W\"\n",
    "num_experiments = 1\n",
    "\n",
    "# CSV formatting parameters\n",
    "# If Fantasy Durham data:\n",
    "csv_date_format = \"%d/%m/%Y\"\n",
    "csv_longlat = True\n",
    "csv_epsg = 27700\n",
    "csv_infeet = False\n",
    "csv_has_header = True"
   ]
  },
  {
   "cell_type": "code",
   "execution_count": 26,
   "metadata": {},
   "outputs": [
    {
     "name": "stdout",
     "output_type": "stream",
     "text": [
      "First time window is from 2019-08-01 to 2019-09-01\n",
      "About to make date_range...\n",
      "date_range: ['2019-08-01']\n",
      "outfile: ..\\..\\Data\\knoxtestingFD2.txt\n",
      "Successfully obtained data, with 1777 events.\n",
      "Opening file ..\\..\\Data\\knoxtestingFD2.txt for writing.\n",
      "Time span: 2019-08-01 to 2019-09-01\n",
      "Getting data subset...\n",
      "...Got data subset. (0.0020)\n",
      "Number of events in timespan: 650\n",
      "Calculating Knox...\n",
      "...Calculated Knox. (6.0677)\n",
      "Writing to file ..\\..\\Data\\knoxtestingFD2.txt ...\n",
      "...Wrote to file. (0.0030)\n",
      "Time for this run: 6.0737\n",
      "Number of runs: 1\n",
      "Number of bins per run: 40\n",
      "Overall time: 6.0737\n"
     ]
    }
   ],
   "source": [
    "# Perform Knox runs and generate file of resulting Knox info\n",
    "\n",
    "\n",
    "make_knox_info_file(datadir=datadir, \n",
    "                    in_csv_file_name=in_csv_file_name, \n",
    "                    out_knox_file_name=knoxrun_file_name, \n",
    "                    geojson_file_name=geojson_file_name, \n",
    "                    crime_types=crime_types, \n",
    "                    num_knox_iterations=num_knox_iterations, \n",
    "                    knox_sbin_size=knox_sbin_size, \n",
    "                    knox_sbin_num=knox_sbin_num, \n",
    "                    knox_tbin_size=knox_tbin_size, \n",
    "                    knox_tbin_num=knox_tbin_num, \n",
    "                    earliest_exp_time=first_test_end, \n",
    "                    num_exp=num_experiments, \n",
    "                    time_step=time_step, \n",
    "                    time_len=time_window_size, \n",
    "                    csv_date_format = csv_date_format, \n",
    "                    csv_longlat = csv_longlat, \n",
    "                    csv_epsg = csv_epsg, \n",
    "                    csv_infeet = csv_infeet, \n",
    "                    csv_has_header = csv_has_header, \n",
    "                    )\n",
    "\n"
   ]
  },
  {
   "cell_type": "code",
   "execution_count": 27,
   "metadata": {
    "scrolled": false
   },
   "outputs": [
    {
     "data": {
      "image/png": "[encoded data removed]",
      "text/plain": [
       "<Figure size 864x288 with 2 Axes>"
      ]
     },
     "metadata": {
      "needs_background": "light"
     },
     "output_type": "display_data"
    }
   ],
   "source": [
    "#Analyse output\n",
    "\n",
    "# Input parameters\n",
    "datadir = \"../../Data\"\n",
    "# Significance bands we're interested in\n",
    "signif_cutoff = [0.01, 0.05, 0.1]\n",
    "# Whether you want to generate scatterplots that attempt to pick the best\n",
    "#  spatial and temporal bandwidths, in a few different ways\n",
    "graph_best_bands = True\n",
    "\n",
    "make_graphs_from_knox_file(datadir, \n",
    "                           knoxrun_file_name, \n",
    "                           signif_cutoff=signif_cutoff)\n"
   ]
  },
  {
   "cell_type": "code",
   "execution_count": null,
   "metadata": {},
   "outputs": [],
   "source": []
  }
 ],
 "metadata": {
  "kernelspec": {
   "display_name": "Python 3",
   "language": "python",
   "name": "python3"
  },
  "language_info": {
   "codemirror_mode": {
    "name": "ipython",
    "version": 3
   },
   "file_extension": ".py",
   "mimetype": "text/x-python",
   "name": "python",
   "nbconvert_exporter": "python",
   "pygments_lexer": "ipython3",
   "version": "3.7.1"
  }
 },
 "nbformat": 4,
 "nbformat_minor": 2
}
