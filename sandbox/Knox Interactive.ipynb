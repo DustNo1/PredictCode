{
 "cells": [
  {
   "cell_type": "markdown",
   "metadata": {},
   "source": [
    "# Near-Repeat Analysis\n",
    "\n"
   ]
  },
  {
   "cell_type": "markdown",
   "metadata": {},
   "source": [
    "Import required modules here."
   ]
  },
  {
   "cell_type": "code",
   "execution_count": null,
   "metadata": {},
   "outputs": [],
   "source": [
    "### Run this without editing anything\n",
    "\n",
    "import sys\n",
    "import os\n",
    "import importlib\n",
    "import geopandas as gpd\n",
    "import statistics\n",
    "import time\n",
    "\n",
    "# In order to use our local edited versions of open_cp\n",
    "# scripts, we insert the parent directory of the current\n",
    "# file (\"..\") at the start of our sys.path here.\n",
    "sys.path.insert(0, os.path.abspath(\"..\"))\n",
    "\n",
    "# Elements from PredictCode's custom \"open_cp\" package\n",
    "import open_cp\n",
    "import open_cp.knox\n",
    "\n",
    "#import riskModelsGeneric\n",
    "#importlib.reload(riskModelsGeneric)\n",
    "import knoxAnalysis\n",
    "importlib.reload(knoxAnalysis)\n",
    "from knoxAnalysis import make_knox_info_file, make_graphs_from_knox_file\n",
    "\n",
    "print(\"Successfully imported modules.\")"
   ]
  },
  {
   "cell_type": "markdown",
   "metadata": {},
   "source": [
    "Set your arguments here. The current default arguments are for a Fantasy Durham data set."
   ]
  },
  {
   "cell_type": "code",
   "execution_count": null,
   "metadata": {},
   "outputs": [],
   "source": [
    "### Edit this, then run it\n",
    "\n",
    "\n",
    "# Location of data file\n",
    "datadir           = \"../../Data\"\n",
    "\n",
    "# Input csv file name\n",
    "in_csv_file_name  = \"Fantasy-Durham-Data.csv\"\n",
    "\n",
    "# Output file for Knox info\n",
    "knoxrun_file_name = \"knoxtestingFD123.txt\"\n",
    "\n",
    "# Geojson file\n",
    "geojson_file_name = \"Police_Force_Areas_December_2016_Durham_fixed.geojson\"\n",
    "\n",
    "# Crime types to include\n",
    "crime_types       = \"Burglary, Vehicle crime\"\n",
    "\n",
    "# Number of iterations of the algorithm to perform\n",
    "# Ideally around 1000, but you can reduce this to reduce the time required.\n",
    "num_knox_iterations = 200\n",
    "\n",
    "# Size of distance bins, in meters\n",
    "knox_sbin_size = 500\n",
    "# Number of distance bins to test\n",
    "knox_sbin_num  = 10\n",
    "# Size of time bins, in days\n",
    "knox_tbin_size = 7\n",
    "# Number of distance bins to test\n",
    "knox_tbin_num  = 8\n",
    "\n",
    "# Total number of experiments to run\n",
    "num_experiments  = 1\n",
    "# Size of the time window of events to analyse\n",
    "time_window_size = \"1M\"\n",
    "# End of the first time window\n",
    "#  (Currently, provide date in format YYYY-MM-DD)\n",
    "first_test_end   = \"2019-09-01\"\n",
    "# Time step between experiments\n",
    "time_step        = \"1W\"\n",
    "\n",
    "# CSV formatting parameters\n",
    "# If Fantasy Durham data:\n",
    "local_epsg = 27700\n",
    "csv_date_format = \"%d/%m/%Y\"\n",
    "csv_longlat = True\n",
    "csv_epsg = 27700\n",
    "csv_infeet = False\n",
    "\n",
    "\n",
    "# Names of the appropriate columns in the header of the CSV file\n",
    "csv_date_name       = \"Date\"       # column with date (and time)\n",
    "csv_east_name       = \"Longitude\"  # column with eastings or longitudes\n",
    "csv_north_name      = \"Latitude\"   # column with northings or latitudes\n",
    "csv_crimetypes_name = \"Crime type\" # column with type of crime\n",
    "\n",
    "\n",
    "print(\"Parameter assignment complete.\")"
   ]
  },
  {
   "cell_type": "markdown",
   "metadata": {},
   "source": [
    "# Generate Knox data"
   ]
  },
  {
   "cell_type": "code",
   "execution_count": null,
   "metadata": {},
   "outputs": [],
   "source": [
    "### Run this without editing anything\n",
    "\n",
    "\n",
    "# Perform Knox runs and generate file of resulting Knox info\n",
    "\n",
    "\n",
    "make_knox_info_file(datadir=datadir, \n",
    "                    in_csv_file_name=in_csv_file_name, \n",
    "                    out_knox_file_name=knoxrun_file_name, \n",
    "                    geojson_file_name=geojson_file_name, \n",
    "                    local_epsg_in=local_epsg, \n",
    "                    crime_types=crime_types, \n",
    "                    num_knox_iterations=num_knox_iterations, \n",
    "                    knox_sbin_size=knox_sbin_size, \n",
    "                    knox_sbin_num=knox_sbin_num, \n",
    "                    knox_tbin_size=knox_tbin_size, \n",
    "                    knox_tbin_num=knox_tbin_num, \n",
    "                    earliest_exp_time=first_test_end, \n",
    "                    num_exp=num_experiments, \n",
    "                    time_step=time_step, \n",
    "                    time_len=time_window_size, \n",
    "                    csv_date_format = csv_date_format, \n",
    "                    csv_longlat = csv_longlat, \n",
    "                    csv_epsg = csv_epsg, \n",
    "                    csv_infeet = csv_infeet, \n",
    "                    csv_col_names = [csv_date_name, csv_east_name, csv_north_name, csv_crimetypes_name], \n",
    "                    )\n",
    "\n"
   ]
  },
  {
   "cell_type": "code",
   "execution_count": null,
   "metadata": {
    "scrolled": false
   },
   "outputs": [],
   "source": [
    "#Analyse output\n",
    "\n",
    "# Input parameters\n",
    "datadir = \"../../Data\"\n",
    "# Significance bands we're interested in\n",
    "signif_cutoff = [0.01, 0.05, 0.1]\n",
    "# Whether you want to generate scatterplots that attempt to pick the best\n",
    "#  spatial and temporal bandwidths, in a few different ways\n",
    "graph_best_bands = True\n",
    "\n",
    "make_graphs_from_knox_file(datadir, \n",
    "                           knoxrun_file_name, \n",
    "                           signif_cutoff=signif_cutoff)\n"
   ]
  },
  {
   "cell_type": "code",
   "execution_count": null,
   "metadata": {},
   "outputs": [],
   "source": []
  }
 ],
 "metadata": {
  "kernelspec": {
   "display_name": "Python 3",
   "language": "python",
   "name": "python3"
  },
  "language_info": {
   "codemirror_mode": {
    "name": "ipython",
    "version": 3
   },
   "file_extension": ".py",
   "mimetype": "text/x-python",
   "name": "python",
   "nbconvert_exporter": "python",
   "pygments_lexer": "ipython3",
   "version": "3.7.1"
  }
 },
 "nbformat": 4,
 "nbformat_minor": 2
}
